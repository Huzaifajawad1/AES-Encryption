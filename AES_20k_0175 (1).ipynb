{
  "nbformat": 4,
  "nbformat_minor": 0,
  "metadata": {
    "colab": {
      "provenance": []
    },
    "kernelspec": {
      "name": "python3",
      "display_name": "Python 3"
    },
    "language_info": {
      "name": "python"
    }
  },
  "cells": [
    {
      "cell_type": "code",
      "execution_count": 161,
      "metadata": {
        "id": "3oqJF2HkaWcE"
      },
      "outputs": [],
      "source": [
        "# Sbox: The AES Substitution Box (S-box) used for the encryption process.\n",
        "# It replaces each byte of the input with another byte based on a fixe\n",
        "Sbox = (\n",
        "    0x63, 0x7C, 0x77, 0x7B, 0xF2, 0x6B, 0x6F, 0xC5, 0x30, 0x01, 0x67, 0x2B, 0xFE, 0xD7, 0xAB, 0x76,\n",
        "    0xCA, 0x82, 0xC9, 0x7D, 0xFA, 0x59, 0x47, 0xF0, 0xAD, 0xD4, 0xA2, 0xAF, 0x9C, 0xA4, 0x72, 0xC0,\n",
        "    0xB7, 0xFD, 0x93, 0x26, 0x36, 0x3F, 0xF7, 0xCC, 0x34, 0xA5, 0xE5, 0xF1, 0x71, 0xD8, 0x31, 0x15,\n",
        "    0x04, 0xC7, 0x23, 0xC3, 0x18, 0x96, 0x05, 0x9A, 0x07, 0x12, 0x80, 0xE2, 0xEB, 0x27, 0xB2, 0x75,\n",
        "    0x09, 0x83, 0x2C, 0x1A, 0x1B, 0x6E, 0x5A, 0xA0, 0x52, 0x3B, 0xD6, 0xB3, 0x29, 0xE3, 0x2F, 0x84,\n",
        "    0x53, 0xD1, 0x00, 0xED, 0x20, 0xFC, 0xB1, 0x5B, 0x6A, 0xCB, 0xBE, 0x39, 0x4A, 0x4C, 0x58, 0xCF,\n",
        "    0xD0, 0xEF, 0xAA, 0xFB, 0x43, 0x4D, 0x33, 0x85, 0x45, 0xF9, 0x02, 0x7F, 0x50, 0x3C, 0x9F, 0xA8,\n",
        "    0x51, 0xA3, 0x40, 0x8F, 0x92, 0x9D, 0x38, 0xF5, 0xBC, 0xB6, 0xDA, 0x21, 0x10, 0xFF, 0xF3, 0xD2,\n",
        "    0xCD, 0x0C, 0x13, 0xEC, 0x5F, 0x97, 0x44, 0x17, 0xC4, 0xA7, 0x7E, 0x3D, 0x64, 0x5D, 0x19, 0x73,\n",
        "    0x60, 0x81, 0x4F, 0xDC, 0x22, 0x2A, 0x90, 0x88, 0x46, 0xEE, 0xB8, 0x14, 0xDE, 0x5E, 0x0B, 0xDB,\n",
        "    0xE0, 0x32, 0x3A, 0x0A, 0x49, 0x06, 0x24, 0x5C, 0xC2, 0xD3, 0xAC, 0x62, 0x91, 0x95, 0xE4, 0x79,\n",
        "    0xE7, 0xC8, 0x37, 0x6D, 0x8D, 0xD5, 0x4E, 0xA9, 0x6C, 0x56, 0xF4, 0xEA, 0x65, 0x7A, 0xAE, 0x08,\n",
        "    0xBA, 0x78, 0x25, 0x2E, 0x1C, 0xA6, 0xB4, 0xC6, 0xE8, 0xDD, 0x74, 0x1F, 0x4B, 0xBD, 0x8B, 0x8A,\n",
        "    0x70, 0x3E, 0xB5, 0x66, 0x48, 0x03, 0xF6, 0x0E, 0x61, 0x35, 0x57, 0xB9, 0x86, 0xC1, 0x1D, 0x9E,\n",
        "    0xE1, 0xF8, 0x98, 0x11, 0x69, 0xD9, 0x8E, 0x94, 0x9B, 0x1E, 0x87, 0xE9, 0xCE, 0x55, 0x28, 0xDF,\n",
        "    0x8C, 0xA1, 0x89, 0x0D, 0xBF, 0xE6, 0x42, 0x68, 0x41, 0x99, 0x2D, 0x0F, 0xB0, 0x54, 0xBB, 0x16,\n",
        ")\n",
        "# InvSbox: The inverse S-box used for decryption.\n",
        "# It reverses the transformation performed by the S-box during encryption.\n",
        "InvSbox = (\n",
        "    0x52, 0x09, 0x6A, 0xD5, 0x30, 0x36, 0xA5, 0x38, 0xBF, 0x40, 0xA3, 0x9E, 0x81, 0xF3, 0xD7, 0xFB,\n",
        "    0x7C, 0xE3, 0x39, 0x82, 0x9B, 0x2F, 0xFF, 0x87, 0x34, 0x8E, 0x43, 0x44, 0xC4, 0xDE, 0xE9, 0xCB,\n",
        "    0x54, 0x7B, 0x94, 0x32, 0xA6, 0xC2, 0x23, 0x3D, 0xEE, 0x4C, 0x95, 0x0B, 0x42, 0xFA, 0xC3, 0x4E,\n",
        "    0x08, 0x2E, 0xA1, 0x66, 0x28, 0xD9, 0x24, 0xB2, 0x76, 0x5B, 0xA2, 0x49, 0x6D, 0x8B, 0xD1, 0x25,\n",
        "    0x72, 0xF8, 0xF6, 0x64, 0x86, 0x68, 0x98, 0x16, 0xD4, 0xA4, 0x5C, 0xCC, 0x5D, 0x65, 0xB6, 0x92,\n",
        "    0x6C, 0x70, 0x48, 0x50, 0xFD, 0xED, 0xB9, 0xDA, 0x5E, 0x15, 0x46, 0x57, 0xA7, 0x8D, 0x9D, 0x84,\n",
        "    0x90, 0xD8, 0xAB, 0x00, 0x8C, 0xBC, 0xD3, 0x0A, 0xF7, 0xE4, 0x58, 0x05, 0xB8, 0xB3, 0x45, 0x06,\n",
        "    0xD0, 0x2C, 0x1E, 0x8F, 0xCA, 0x3F, 0x0F, 0x02, 0xC1, 0xAF, 0xBD, 0x03, 0x01, 0x13, 0x8A, 0x6B,\n",
        "    0x3A, 0x91, 0x11, 0x41, 0x4F, 0x67, 0xDC, 0xEA, 0x97, 0xF2, 0xCF, 0xCE, 0xF0, 0xB4, 0xE6, 0x73,\n",
        "    0x96, 0xAC, 0x74, 0x22, 0xE7, 0xAD, 0x35, 0x85, 0xE2, 0xF9, 0x37, 0xE8, 0x1C, 0x75, 0xDF, 0x6E,\n",
        "    0x47, 0xF1, 0x1A, 0x71, 0x1D, 0x29, 0xC5, 0x89, 0x6F, 0xB7, 0x62, 0x0E, 0xAA, 0x18, 0xBE, 0x1B,\n",
        "    0xFC, 0x56, 0x3E, 0x4B, 0xC6, 0xD2, 0x79, 0x20, 0x9A, 0xDB, 0xC0, 0xFE, 0x78, 0xCD, 0x5A, 0xF4,\n",
        "    0x1F, 0xDD, 0xA8, 0x33, 0x88, 0x07, 0xC7, 0x31, 0xB1, 0x12, 0x10, 0x59, 0x27, 0x80, 0xEC, 0x5F,\n",
        "    0x60, 0x51, 0x7F, 0xA9, 0x19, 0xB5, 0x4A, 0x0D, 0x2D, 0xE5, 0x7A, 0x9F, 0x93, 0xC9, 0x9C, 0xEF,\n",
        "    0xA0, 0xE0, 0x3B, 0x4D, 0xAE, 0x2A, 0xF5, 0xB0, 0xC8, 0xEB, 0xBB, 0x3C, 0x83, 0x53, 0x99, 0x61,\n",
        "    0x17, 0x2B, 0x04, 0x7E, 0xBA, 0x77, 0xD6, 0x26, 0xE1, 0x69, 0x14, 0x63, 0x55, 0x21, 0x0C, 0x7D,\n",
        ")\n",
        "# Rcon: The Round Constants used during key expansion in AES.\n",
        "# These constants are used to generate the key schedule for each round.\n",
        "Rcon = (\n",
        "    0x00, 0x01, 0x02, 0x04, 0x08, 0x10, 0x20, 0x40,\n",
        "    0x80, 0x1B, 0x36, 0x6C, 0xD8, 0xAB, 0x4D, 0x9A,\n",
        "    0x2F, 0x5E, 0xBC, 0x63, 0xC6, 0x97, 0x35, 0x6A,\n",
        "    0xD4, 0xB3, 0x7D, 0xFA, 0xEF, 0xC5, 0x91, 0x39,\n",
        ")"
      ]
    },
    {
      "cell_type": "code",
      "source": [
        "# xtime: This lambda function implements the \"xtime\" operation used in AES encryption.\n",
        "# It takes a byte value 'a' as input and performs the following steps:\n",
        "# 1. If the most significant bit (bit 7) of 'a' is set (a & 0x80 is non-zero), it multiplies 'a' by 2,\n",
        "#    applies a bitwise XOR with 0x1B, and ensures the result is confined to a single byte (8 bits).\n",
        "# 2. If the most significant bit is not set, it simply multiplies 'a' by 2 (left-shifts by one position).\n",
        "# The operation is used in byte-wise data transformations during AES encryption.\n",
        "xtime = lambda a: (((a << 1) ^ 0x1B) & 0xFF) if (a & 0x80) else (a << 1)"
      ],
      "metadata": {
        "id": "03YzhsAYdUeT"
      },
      "execution_count": 162,
      "outputs": []
    },
    {
      "cell_type": "code",
      "source": [
        "def text2matrix(text):\n",
        "    # Initialize an empty matrix to hold the 4x4 result.\n",
        "    matrix = []\n",
        "    # Iterate through the 16 bytes of the input text.\n",
        "    for i in range(16):\n",
        "        # Extract one byte at a time from the input text, starting from the most significant byte.\n",
        "        byte = (text >> (8 * (15 - i))) & 0xFF\n",
        "        # If the current byte position is a multiple of 4, create a new column in the matrix.\n",
        "        if i % 4 == 0:\n",
        "            matrix.append([byte])\n",
        "        else:\n",
        "            # Append the byte to the existing column in the matrix.\n",
        "            matrix[i // 4].append(byte)\n",
        "    # Return the resulting 4x4 matrix.\n",
        "    return matrix"
      ],
      "metadata": {
        "id": "F0WA4fLZfLma"
      },
      "execution_count": 163,
      "outputs": []
    },
    {
      "cell_type": "code",
      "source": [
        "def matrix2text(matrix):\n",
        "    # Initialize a variable to hold the resulting 128-bit value.\n",
        "    text = 0\n",
        "    # Iterate through the 4x4 matrix.\n",
        "    for i in range(4):\n",
        "        for j in range(4):\n",
        "            # Extract the byte from the matrix and left-shift it to its appropriate position\n",
        "            # within the 128-bit value using bit manipulation.\n",
        "            text |= (matrix[i][j] << (120 - 8 * (4 * i + j)))\n",
        "\n",
        "    # Return the resulting 128-bit value.\n",
        "    return text"
      ],
      "metadata": {
        "id": "hh7kanM8gF5z"
      },
      "execution_count": 164,
      "outputs": []
    },
    {
      "cell_type": "code",
      "source": [
        "class AES:\n",
        "    def __init__(self, master_key):\n",
        "        # Initialize the AES object with a master key.\n",
        "        self.change_key(master_key)\n",
        "\n",
        "    def change_key(self, master_key):\n",
        "        # Generate the round keys from the master key and store them in self.round_keys.\n",
        "        self.round_keys = text2matrix(master_key)\n",
        "\n",
        "        for i in range(4, 4 * 11):\n",
        "            self.round_keys.append([])\n",
        "\n",
        "            if i % 4 == 0:\n",
        "                # Calculate the first byte of the new round key.\n",
        "                byte = self.round_keys[i - 4][0] ^ Sbox[self.round_keys[i - 1][1]] ^ Rcon[i // 4]\n",
        "                self.round_keys[i].append(byte)\n",
        "\n",
        "                # Calculate the remaining bytes of the new round key.\n",
        "                for j in range(1, 4):\n",
        "                    byte = self.round_keys[i - 4][j] ^ Sbox[self.round_keys[i - 1][(j + 1) % 4]]\n",
        "                    self.round_keys[i].append(byte)\n",
        "            else:\n",
        "                # Calculate bytes for non-multiple-of-4 round keys.\n",
        "                for j in range(4):\n",
        "                    byte = self.round_keys[i - 4][j] ^ self.round_keys[i - 1][j]\n",
        "                    self.round_keys[i].append(byte)\n",
        "\n",
        "    def encrypt(self, plaintext):\n",
        "      # Convert plaintext into a state matrix.\n",
        "      self.plain_state = text2matrix(plaintext)\n",
        "\n",
        "      # Add the initial round key to the state.\n",
        "      self.__add_round_key(self.plain_state, self.round_keys[:4])\n",
        "\n",
        "      # Perform the main encryption rounds.\n",
        "      for i in range(1, 10):\n",
        "          self.__round_encrypt(self.plain_state, self.round_keys[4 * i : 4 * (i + 1)])\n",
        "\n",
        "      # Apply the final transformations: SubBytes, ShiftRows, and AddRoundKey.\n",
        "      self.__sub_bytes(self.plain_state)\n",
        "      self.__shift_rows(self.plain_state)\n",
        "      self.__add_round_key(self.plain_state, self.round_keys[40:])\n",
        "\n",
        "      # Return the encrypted ciphertext as a 128-bit value.\n",
        "      return matrix2text(self.plain_state)\n",
        "\n",
        "    def decrypt(self, ciphertext):\n",
        "        # Convert ciphertext into a state matrix.\n",
        "        self.cipher_state = text2matrix(ciphertext)\n",
        "\n",
        "        # Add the initial round key to the state.\n",
        "        self.__add_round_key(self.cipher_state, self.round_keys[40:])\n",
        "\n",
        "        # Reverse transformations: InvShiftRows, InvSubBytes, and main decryption rounds.\n",
        "        self.__inv_shift_rows(self.cipher_state)\n",
        "        self.__inv_sub_bytes(self.cipher_state)\n",
        "\n",
        "        for i in range(9, 0, -1):\n",
        "            self.__round_decrypt(self.cipher_state, self.round_keys[4 * i : 4 * (i + 1)])\n",
        "\n",
        "        # Add the final round key to the state.\n",
        "        self.__add_round_key(self.cipher_state, self.round_keys[:4])\n",
        "\n",
        "        # Return the decrypted plaintext as a 128-bit value.\n",
        "        return matrix2text(self.cipher_state)\n",
        "\n",
        "    def __add_round_key(self, s, k):\n",
        "        # Add the round key to the state matrix using bitwise XOR.\n",
        "        for i in range(4):\n",
        "            for j in range(4):\n",
        "                s[i][j] ^= k[i][j]\n",
        "    def __round_encrypt(self, state_matrix, key_matrix):\n",
        "        # Perform one round of encryption:\n",
        "        # 1. Substitute Bytes\n",
        "        # 2. Shift Rows\n",
        "        # 3. Mix Columns\n",
        "        # 4. Add Round Key\n",
        "        self.__sub_bytes(state_matrix)\n",
        "        self.__shift_rows(state_matrix)\n",
        "        self.__mix_columns(state_matrix)\n",
        "        self.__add_round_key(state_matrix, key_matrix)\n",
        "\n",
        "    def __round_decrypt(self, state_matrix, key_matrix):\n",
        "        # Perform one round of decryption (inverse of encryption):\n",
        "        # 1. Add Round Key\n",
        "        # 2. Inverse Mix Columns\n",
        "        # 3. Inverse Shift Rows\n",
        "        # 4. Inverse Substitute Bytes\n",
        "        self.__add_round_key(state_matrix, key_matrix)\n",
        "        self.__inv_mix_columns(state_matrix)\n",
        "        self.__inv_shift_rows(state_matrix)\n",
        "        self.__inv_sub_bytes(state_matrix)\n",
        "\n",
        "    def __sub_bytes(self, s):\n",
        "        # SubBytes transformation: Substitute each byte with its corresponding value from the S-box.\n",
        "        for i in range(4):\n",
        "            for j in range(4):\n",
        "                s[i][j] = Sbox[s[i][j]]\n",
        "\n",
        "    def __inv_sub_bytes(self, s):\n",
        "        # Inverse SubBytes transformation: Substitute each byte with its corresponding value from the inverse S-box.\n",
        "        for i in range(4):\n",
        "            for j in range(4):\n",
        "                s[i][j] = InvSbox[s[i][j]]\n",
        "\n",
        "    def __shift_rows(self, s):\n",
        "        # Shift Rows transformation: Shift the rows of the state matrix.\n",
        "        # The first row remains unchanged, the second row shifts one position to the left, and so on.\n",
        "        s[0][1], s[1][1], s[2][1], s[3][1] = s[1][1], s[2][1], s[3][1], s[0][1]\n",
        "        s[0][2], s[1][2], s[2][2], s[3][2] = s[2][2], s[3][2], s[0][2], s[1][2]\n",
        "        s[0][3], s[1][3], s[2][3], s[3][3] = s[3][3], s[0][3], s[1][3], s[2][3]\n",
        "\n",
        "    def __inv_shift_rows(self, s):\n",
        "        # Inverse Shift Rows transformation: Reverse the row shifts performed during encryption.\n",
        "        s[0][1], s[1][1], s[2][1], s[3][1] = s[3][1], s[0][1], s[1][1], s[2][1]\n",
        "        s[0][2], s[1][2], s[2][2], s[3][2] = s[2][2], s[3][2], s[0][2], s[1][2]\n",
        "        s[0][3], s[1][3], s[2][3], s[3][3] = s[1][3], s[2][3], s[3][3], s[0][3]\n",
        "\n",
        "    def __mix_single_column(self, a):\n",
        "        # Mix a single column using specific multiplication operations.\n",
        "        # This is part of the Mix Columns transformation.\n",
        "        t = a[0] ^ a[1] ^ a[2] ^ a[3]\n",
        "        u = a[0]\n",
        "        a[0] ^= t ^ xtime(a[0] ^ a[1])\n",
        "        a[1] ^= t ^ xtime(a[1] ^ a[2])\n",
        "        a[2] ^= t ^ xtime(a[2] ^ a[3])\n",
        "        a[3] ^= t ^ xtime(a[3] ^ u)\n",
        "\n",
        "    def __mix_columns(self, s):\n",
        "        # Mix Columns transformation: Mix all columns in the state matrix.\n",
        "        for i in range(4):\n",
        "            self.__mix_single_column(s[i])\n",
        "\n",
        "    def __inv_mix_columns(self, s):\n",
        "        # Inverse Mix Columns transformation: Reverse the Mix Columns operation performed during encryption.\n",
        "        for i in range(4):\n",
        "            u = xtime(xtime(s[i][0] ^ s[i][2]))\n",
        "            v = xtime(xtime(s[i][1] ^ s[i][3]))\n",
        "            s[i][0] ^= u\n",
        "            s[i][1] ^= v\n",
        "            s[i][2] ^= u\n",
        "            s[i][3] ^= v\n",
        "\n",
        "        # Perform Mix Columns to finalize the inverse Mix Columns transformation.\n",
        "        self.__mix_columns(s)\n"
      ],
      "metadata": {
        "id": "8KYQ1wZKguVB"
      },
      "execution_count": 165,
      "outputs": []
    },
    {
      "cell_type": "code",
      "source": [
        "hex_key = 0x2b7e151628aed2a6abf7158809cf4f3c"
      ],
      "metadata": {
        "id": "g81oV_8gnOkb"
      },
      "execution_count": 166,
      "outputs": []
    },
    {
      "cell_type": "code",
      "source": [
        "my_security = AES(hex_key)"
      ],
      "metadata": {
        "id": "cscTOAt_qvqq"
      },
      "execution_count": 167,
      "outputs": []
    },
    {
      "cell_type": "code",
      "source": [
        "# Original string\n",
        "original_string = \"The sun was setting behind the distant mountains, casting a warm orange glow across the tranquil lake. As the day came to a close, the sounds of nature filled the air - the chirping of crickets, the gentle rustling of leaves in the breeze, and the occasional call of a distant bird. It was a peaceful scene, a moment of serenity in the midst of a busy world. People gathered by the shore, enjoying the beauty of the evening, and for a brief moment, all worries and cares seemed to fade away.\"\n",
        "\n",
        "# Convert the string to a hexadecimal integer\n",
        "hex_integer = int.from_bytes(original_string.encode('utf-8'), byteorder='big')\n",
        "\n",
        "# Convert the hexadecimal integer back to ASCII\n",
        "ascii_string = hex_integer.to_bytes((hex_integer.bit_length() + 7) // 8, byteorder='big').decode('utf-8')\n",
        "\n",
        "# Print the results\n",
        "print(\"Original String:\", original_string)\n",
        "print(\"Hexadecimal Integer:\", hex(hex_integer))\n",
        "print(\"ASCII String:\", ascii_string)\n"
      ],
      "metadata": {
        "colab": {
          "base_uri": "https://localhost:8080/"
        },
        "id": "UpXJ-9vtQRdv",
        "outputId": "4417cef2-db88-4ba4-9788-b5a8349e5d3a"
      },
      "execution_count": 168,
      "outputs": [
        {
          "output_type": "stream",
          "name": "stdout",
          "text": [
            "Original String: The sun was setting behind the distant mountains, casting a warm orange glow across the tranquil lake. As the day came to a close, the sounds of nature filled the air - the chirping of crickets, the gentle rustling of leaves in the breeze, and the occasional call of a distant bird. It was a peaceful scene, a moment of serenity in the midst of a busy world. People gathered by the shore, enjoying the beauty of the evening, and for a brief moment, all worries and cares seemed to fade away.\n",
            "Hexadecimal Integer: 0x5468652073756e207761732073657474696e6720626568696e64207468652064697374616e74206d6f756e7461696e732c2063617374696e672061207761726d206f72616e676520676c6f77206163726f737320746865207472616e7175696c206c616b652e20417320746865206461792063616d6520746f206120636c6f73652c2074686520736f756e6473206f66206e61747572652066696c6c65642074686520616972202d20746865206368697270696e67206f6620637269636b6574732c207468652067656e746c6520727573746c696e67206f66206c656176657320696e2074686520627265657a652c20616e6420746865206f63636173696f6e616c2063616c6c206f6620612064697374616e7420626972642e20497420776173206120706561636566756c207363656e652c2061206d6f6d656e74206f6620736572656e69747920696e20746865206d69647374206f662061206275737920776f726c642e2050656f706c65206761746865726564206279207468652073686f72652c20656e6a6f79696e672074686520626561757479206f6620746865206576656e696e672c20616e6420666f722061206272696566206d6f6d656e742c20616c6c20776f727269657320616e64206361726573207365656d656420746f206661646520617761792e\n",
            "ASCII String: The sun was setting behind the distant mountains, casting a warm orange glow across the tranquil lake. As the day came to a close, the sounds of nature filled the air - the chirping of crickets, the gentle rustling of leaves in the breeze, and the occasional call of a distant bird. It was a peaceful scene, a moment of serenity in the midst of a busy world. People gathered by the shore, enjoying the beauty of the evening, and for a brief moment, all worries and cares seemed to fade away.\n"
          ]
        }
      ]
    },
    {
      "cell_type": "code",
      "source": [
        "# Given big hex integer\n",
        "big_hex_integer = hex_integer\n",
        "\n",
        "# Convert it to a hex string with the '0x' prefix\n",
        "hex_string = hex(big_hex_integer)\n",
        "\n",
        "# Remove the '0x' prefix and pad with zeros to ensure each part has 14 bytes\n",
        "hex_string = hex_string[2:].zfill(28)\n",
        "\n",
        "# Calculate the number of parts\n",
        "num_parts = len(hex_string) // 14\n",
        "\n",
        "# Create an array (list) to store the parts as integers with the '0x' prefix\n",
        "parts = []\n",
        "\n",
        "# Divide the hex string into parts, convert them back to integers with the '0x' prefix, and store them in the array\n",
        "for i in range(num_parts):\n",
        "    part_hex_string = hex_string[i*14:(i+1)*14]\n",
        "    part_hex_int = int(f\"0x{part_hex_string}\", 16)\n",
        "    parts.append(part_hex_int)\n",
        "\n",
        "# Print the parts array\n",
        "print(\"Parts Array:\", parts)\n"
      ],
      "metadata": {
        "colab": {
          "base_uri": "https://localhost:8080/"
        },
        "id": "jvvP-zSpTQ4h",
        "outputId": "c1650e8d-9edc-411a-dac3-603a1df63577"
      },
      "execution_count": 169,
      "outputs": [
        {
          "output_type": "stream",
          "name": "stdout",
          "text": [
            "Parts Array: [23758681589118318, 9138459681780581, 32779093471076450, 28543774680686708, 29384587375899508, 27424517780238197, 31090209167668012, 9116469454727534, 29027524129808754, 30716435493908071, 28464601220740896, 27412415888192288, 32765880843924065, 31086996531978348, 27421155050668403, 9135190976783457, 34094083390399776, 32773282157585260, 31370600784098408, 28464652811071076, 32405285148585569, 32780231481779817, 30518480212096104, 28464575400779821, 9135190976783208, 29680699685365536, 31356011708311907, 30229373330923636, 29384587425967732, 30510487518409588, 30515220382248806, 9126381937386867, 9123120966559845, 9115442721684069, 12420501811241076, 29384587560051553, 32485549635890208, 27973140992782182, 9113991006221172, 27424517779515762, 28198213877244023, 27429655646597221, 27412359902751776, 32478909616696352, 27338727133898094, 32686760125297509, 32199672235063584, 29675958225626400, 30796652616097903, 28746049151726963, 34094169524956260, 12983378599964780, 28464601036515429, 32199628059474208, 32765880843855983, 32199387541499498, 31377216145662068, 29384587342078325, 32784277513314420, 29384587393525102, 29676261955625326, 28183121999568993, 9115442788787744, 30803288105317420, 9114317553170287, 32213944344191073, 31072337707233893, 32405302316199269, 28183182123755105, 28258687419638137]\n"
          ]
        }
      ]
    },
    {
      "cell_type": "code",
      "source": [
        "cyp = []\n",
        "for p in parts:\n",
        "  cyp.append(my_security.encrypt(p))"
      ],
      "metadata": {
        "id": "PWU3N2hKVqWe"
      },
      "execution_count": 170,
      "outputs": []
    },
    {
      "cell_type": "code",
      "source": [
        "ans = []\n",
        "for c in cyp:\n",
        "  ans.append(my_security.decrypt(c))\n",
        "print(ans)\n"
      ],
      "metadata": {
        "colab": {
          "base_uri": "https://localhost:8080/"
        },
        "id": "O-DWZGDKYz5L",
        "outputId": "23429815-278d-4db4-8153-5dac5e0508e3"
      },
      "execution_count": 171,
      "outputs": [
        {
          "output_type": "stream",
          "name": "stdout",
          "text": [
            "[23758681589118318, 9138459681780581, 32779093471076450, 28543774680686708, 29384587375899508, 27424517780238197, 31090209167668012, 9116469454727534, 29027524129808754, 30716435493908071, 28464601220740896, 27412415888192288, 32765880843924065, 31086996531978348, 27421155050668403, 9135190976783457, 34094083390399776, 32773282157585260, 31370600784098408, 28464652811071076, 32405285148585569, 32780231481779817, 30518480212096104, 28464575400779821, 9135190976783208, 29680699685365536, 31356011708311907, 30229373330923636, 29384587425967732, 30510487518409588, 30515220382248806, 9126381937386867, 9123120966559845, 9115442721684069, 12420501811241076, 29384587560051553, 32485549635890208, 27973140992782182, 9113991006221172, 27424517779515762, 28198213877244023, 27429655646597221, 27412359902751776, 32478909616696352, 27338727133898094, 32686760125297509, 32199672235063584, 29675958225626400, 30796652616097903, 28746049151726963, 34094169524956260, 12983378599964780, 28464601036515429, 32199628059474208, 32765880843855983, 32199387541499498, 31377216145662068, 29384587342078325, 32784277513314420, 29384587393525102, 29676261955625326, 28183121999568993, 9115442788787744, 30803288105317420, 9114317553170287, 32213944344191073, 31072337707233893, 32405302316199269, 28183182123755105, 28258687419638137]\n"
          ]
        }
      ]
    },
    {
      "cell_type": "code",
      "source": [
        "hex_values = [hex(x) for x in ans]\n",
        "print(hex_values)"
      ],
      "metadata": {
        "colab": {
          "base_uri": "https://localhost:8080/"
        },
        "id": "wyJ0Fs_jZ6js",
        "outputId": "63c36aa9-b995-4ea7-a04a-7fa612801207"
      },
      "execution_count": 172,
      "outputs": [
        {
          "output_type": "stream",
          "name": "stdout",
          "text": [
            "['0x5468652073756e', '0x20776173207365', '0x7474696e672062', '0x6568696e642074', '0x68652064697374', '0x616e74206d6f75', '0x6e7461696e732c', '0x2063617374696e', '0x67206120776172', '0x6d206f72616e67', '0x6520676c6f7720', '0x6163726f737320', '0x74686520747261', '0x6e7175696c206c', '0x616b652e204173', '0x20746865206461', '0x792063616d6520', '0x746f206120636c', '0x6f73652c207468', '0x6520736f756e64', '0x73206f66206e61', '0x74757265206669', '0x6c6c6564207468', '0x6520616972202d', '0x20746865206368', '0x697270696e6720', '0x6f662063726963', '0x6b6574732c2074', '0x68652067656e74', '0x6c652072757374', '0x6c696e67206f66', '0x206c6561766573', '0x20696e20746865', '0x20627265657a65', '0x2c20616e642074', '0x6865206f636361', '0x73696f6e616c20', '0x63616c6c206f66', '0x20612064697374', '0x616e7420626972', '0x642e2049742077', '0x61732061207065', '0x61636566756c20', '0x7363656e652c20', '0x61206d6f6d656e', '0x74206f66207365', '0x72656e69747920', '0x696e2074686520', '0x6d69647374206f', '0x66206120627573', '0x7920776f726c64', '0x2e2050656f706c', '0x65206761746865', '0x72656420627920', '0x7468652073686f', '0x72652c20656e6a', '0x6f79696e672074', '0x68652062656175', '0x7479206f662074', '0x6865206576656e', '0x696e672c20616e', '0x6420666f722061', '0x20627269656620', '0x6d6f6d656e742c', '0x20616c6c20776f', '0x72726965732061', '0x6e642063617265', '0x73207365656d65', '0x6420746f206661', '0x64652061776179']\n"
          ]
        }
      ]
    },
    {
      "cell_type": "code",
      "source": [
        "final_text = []\n",
        "for a in ans:\n",
        "  final_text.append(a.to_bytes((a.bit_length() + 7) // 8, byteorder='big').decode('utf-8'))\n",
        "print(final_text)"
      ],
      "metadata": {
        "colab": {
          "base_uri": "https://localhost:8080/"
        },
        "id": "EuHNTYIFaKCi",
        "outputId": "5e9d7c44-0050-4348-c0a2-4d8ff65908ad"
      },
      "execution_count": 173,
      "outputs": [
        {
          "output_type": "stream",
          "name": "stdout",
          "text": [
            "['The sun', ' was se', 'tting b', 'ehind t', 'he dist', 'ant mou', 'ntains,', ' castin', 'g a war', 'm orang', 'e glow ', 'across ', 'the tra', 'nquil l', 'ake. As', ' the da', 'y came ', 'to a cl', 'ose, th', 'e sound', 's of na', 'ture fi', 'lled th', 'e air -', ' the ch', 'irping ', 'of cric', 'kets, t', 'he gent', 'le rust', 'ling of', ' leaves', ' in the', ' breeze', ', and t', 'he occa', 'sional ', 'call of', ' a dist', 'ant bir', 'd. It w', 'as a pe', 'aceful ', 'scene, ', 'a momen', 't of se', 'renity ', 'in the ', 'midst o', 'f a bus', 'y world', '. Peopl', 'e gathe', 'red by ', 'the sho', 're, enj', 'oying t', 'he beau', 'ty of t', 'he even', 'ing, an', 'd for a', ' brief ', 'moment,', ' all wo', 'rries a', 'nd care', 's seeme', 'd to fa', 'de away']\n"
          ]
        }
      ]
    },
    {
      "cell_type": "code",
      "source": [
        "decryption = ''.join(final_text)\n",
        "print(decryption)"
      ],
      "metadata": {
        "colab": {
          "base_uri": "https://localhost:8080/"
        },
        "id": "-w5ElzYKct4L",
        "outputId": "4f7e5ed2-0990-44ca-c525-ab265513f72c"
      },
      "execution_count": 174,
      "outputs": [
        {
          "output_type": "stream",
          "name": "stdout",
          "text": [
            "The sun was setting behind the distant mountains, casting a warm orange glow across the tranquil lake. As the day came to a close, the sounds of nature filled the air - the chirping of crickets, the gentle rustling of leaves in the breeze, and the occasional call of a distant bird. It was a peaceful scene, a moment of serenity in the midst of a busy world. People gathered by the shore, enjoying the beauty of the evening, and for a brief moment, all worries and cares seemed to fade away\n"
          ]
        }
      ]
    }
  ]
}